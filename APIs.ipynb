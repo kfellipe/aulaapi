{
  "nbformat": 4,
  "nbformat_minor": 0,
  "metadata": {
    "colab": {
      "provenance": []
    },
    "kernelspec": {
      "name": "python3",
      "display_name": "Python 3"
    },
    "language_info": {
      "name": "python"
    }
  },
  "cells": [
    {
      "cell_type": "markdown",
      "source": [
        "# APIs\n",
        "\n",
        "Aqui estão algumas APIs divertidas e interessantes para estudar e praticar:\n",
        "\n",
        "### 1. **PokeAPI** ([pokeapi.co](https://pokeapi.co/))\n",
        "   - **O que faz**: Uma API gratuita que fornece dados sobre os Pokémon, como habilidades, tipos, evoluções, etc.\n",
        "   - **Por que é divertida**: Se você gosta do universo Pokémon, essa API permite brincar com dados dos seus personagens favoritos e criar projetos como Pokedex, games simples ou ferramentas de análise de batalhas.\n",
        "   - **Uso**: Ideal para quem está aprendendo a manipular dados de APIs e trabalhar com dados de estrutura hierárquica.\n",
        "\n",
        "### 2. **The Dog API** ([thedogapi.com](https://thedogapi.com/))\n",
        "   - **O que faz**: Fornece imagens e dados de diferentes raças de cães, além de características específicas como temperamento, expectativa de vida, e outras informações.\n",
        "   - **Por que é divertida**: Perfeita para construir aplicações para amantes de cães ou para simplesmente explorar as diferenças entre raças.\n",
        "   - **Uso**: Você pode criar um site ou aplicativo para adotar cães, visualizar raças aleatórias ou construir um quiz sobre raças.\n",
        "\n",
        "### 3. **The Cat API** ([thecatapi.com](https://thecatapi.com/))\n",
        "   - **O que faz**: Similar à The Dog API, mas para gatos. Retorna imagens, raças e informações sobre gatos.\n",
        "   - **Por que é divertida**: Ideal para construir projetos voltados para quem ama gatos, como galerias de imagens de gatos ou informações detalhadas sobre raças.\n",
        "   - **Uso**: Você pode gerar imagens aleatórias de gatos para criar um site \"Cats of the Day\" ou app de adoção de gatos.\n",
        "\n",
        "### 4. **NASA API** ([api.nasa.gov](https://api.nasa.gov/))\n",
        "   - **O que faz**: Fornece acesso a dados astronômicos, imagens do espaço, informações sobre asteroides e muito mais.\n",
        "   - **Por que é divertida**: Quem não gosta de explorar o universo? Você pode criar aplicativos para visualizar imagens do espaço, dados sobre asteroides ou a localização atual da Estação Espacial Internacional.\n",
        "   - **Uso**: Ótima para visualização de dados, geolocalização e APIs mais avançadas.\n",
        "\n",
        "### 5. **Star Wars API (SWAPI)** ([swapi.dev](https://swapi.dev/))\n",
        "   - **O que faz**: Fornece dados sobre o universo Star Wars, incluindo personagens, filmes, naves, planetas e espécies.\n",
        "   - **Por que é divertida**: Se você é fã de Star Wars, pode criar ferramentas para explorar o universo da franquia, como um app de informações sobre personagens ou um banco de dados dos filmes.\n",
        "   - **Uso**: Permite explorar APIs complexas com várias entidades interconectadas (personagens, naves, planetas etc.).\n",
        "\n",
        "### 6. **Trivia API** ([opentdb.com](https://opentdb.com/))\n",
        "   - **O que faz**: Fornece perguntas e respostas de trivia em várias categorias.\n",
        "   - **Por que é divertida**: Você pode usar essa API para criar jogos de quiz ou simplesmente adicionar uma funcionalidade divertida ao seu site ou app.\n",
        "   - **Uso**: Ótima para praticar manipulação de perguntas e respostas, além de categorizar dados.\n",
        "  \n",
        "\n",
        "### 7. **SuperHero API** ([superheroapi.com](https://superheroapi.com/))\n",
        "   - **O que faz**: Uma API que fornece dados sobre mais de 700 super-heróis, como nomes reais, poderes e biografias.\n",
        "   - **Por que é divertida**: Para os fãs de super-heróis, é uma excelente fonte de dados para criar comparadores de heróis ou jogos baseados em seus poderes.\n",
        "   - **Uso**: Ideal para aprender a trabalhar com dados JSON e fazer requisições baseadas em nomes e IDs.\n",
        "\n",
        "Essas APIs são divertidas porque combinam hobbies e interesses populares com prática técnica, tornando o processo de aprendizado mais interessante e envolvente."
      ],
      "metadata": {
        "id": "vltyp66jO5IK"
      }
    },
    {
      "cell_type": "markdown",
      "source": [
        "# API Pokemons\n",
        "## Documentação: [Link](https://pokeapi.co/docs/v2)\n",
        "### URL Base: https://pokeapi.co/api/v2/\n",
        "# Endpoints:\n",
        "- ### Berrries\n",
        " - berry/{id or name}/\n",
        " - berry-firmness/{id or name}/\n",
        " - berry-flavor/{id or name}/\n",
        "\n",
        "- ### Contests\n",
        " - contest-type/{id or name}/\n",
        " - contest-effect/{id}/\n",
        " - super-contest-effect/{id}/\n",
        "\n",
        "- ### Encouter Methods\n",
        " - encounter-method/{id or name}/\n",
        " - encounter-condition/{id or name}/\n",
        " - encounter-condition-value/{id or name}/\n",
        "\n",
        "- ### Evolution\n",
        " - evolution-chain/{id}/\n",
        " - evolution-trigger/{id or name}/\n",
        "\n",
        "- ### Games\n",
        " - generation/{id or name}/\n",
        " - pokedex/{id or name}/\n",
        " - version/{id or name}/\n",
        " - version-group/{id or name}/\n",
        "\n",
        "- ### Items\n",
        " - item/{id or name}/\n",
        " - item-attribute/{id or name}/\n",
        " - item-category/{id or name}/\n",
        " - item-fling-effect/{id or name}/\n",
        " - item-pocket/{id or name}/\n",
        "\n",
        "- ### Locations\n",
        " - location/{id or name}/\n",
        " - location-area/{id or name}/\n",
        " - pal-park-area/{id or name}/\n",
        " - region/{id or name}/\n",
        "\n",
        "- ### Machines\n",
        " - machine/{id}/\n",
        "\n",
        "- ### Moves\n",
        " - move/{id or name}/\n",
        " - move-ailment/{id or name}/\n",
        " - move-battle-style/{id or name}/\n",
        " - move-category/{id or name}/\n",
        " - move-damage-class/{id or name}/\n",
        " - move-learn-method/{id or name}/\n",
        " - move-target/{id or name}/\n",
        "\n",
        "- ### Pokémon\n",
        " - ability/{id or name}/\n",
        " - characteristic/{id}/\n",
        " - egg-group/{id or name}/\n",
        " - gender/{id or name}/\n",
        " - growth-rate/{id or name}/\n",
        " - nature/{id or name}/\n",
        " - pokeathlon-stat/{id or name}/\n",
        " - pokemon/{id or name}/\n",
        " - pokemon/{id or name}/encounters\n",
        " - pokemon-color/{id or name}/\n",
        " - pokemon-form/{id or name}/\n",
        " - pokemon-habitat/{id or name}/\n",
        " - pokemon-shape/{id or name}/\n",
        " - pokemon-species/{id or name}/\n",
        " - stat/{id or name}/\n",
        " - type/{id or name}/"
      ],
      "metadata": {
        "id": "yMoAx6uiDiM6"
      }
    },
    {
      "cell_type": "code",
      "source": [
        "import requests\n",
        "\n",
        "# URL da API para o Pokémon Bulbasauro\n",
        "url = \"https://pokeapi.co/api/v2/pokemon/1\"\n",
        "\n",
        "# Enviar a requisição GET\n",
        "response = requests.get(url)\n",
        "\n",
        "# Verificar se a requisição foi bem-sucedida\n",
        "if response.status_code == 200:\n",
        "    # Converter a resposta para JSON\n",
        "    data = response.json()\n",
        "\n",
        "    # Exibir algumas informações\n",
        "    print(f\"Nome: {data['name']}\") # Exibindo NOME\n",
        "    print(f\"ID: {data['id']}\") # Exibindo ID\n",
        "    print(f\"Altura: {data['height']}\") # Exibindo ALTURA\n",
        "    print(f\"Peso: {data['weight']}\") # Exibindo PESO\n",
        "\n",
        "    # Exibir os tipos do Pikachu\n",
        "    print(\"Tipos:\")\n",
        "    for type_info in data['types']:\n",
        "        print(f\"- {type_info['type']['name']}\")\n",
        "else:\n",
        "    print(f\"Erro {response.status_code}: Não foi possível obter os dados do Pokemon.\")\n"
      ],
      "metadata": {
        "colab": {
          "base_uri": "https://localhost:8080/"
        },
        "id": "XqspAGe4aY_b",
        "outputId": "00960096-e7b4-4461-9a18-0c71ddb00c07"
      },
      "execution_count": null,
      "outputs": [
        {
          "output_type": "stream",
          "name": "stdout",
          "text": [
            "Nome: bulbasaur\n",
            "ID: 1\n",
            "Altura: 7\n",
            "Peso: 69\n",
            "Tipos:\n",
            "- grass\n",
            "- poison\n"
          ]
        }
      ]
    },
    {
      "cell_type": "markdown",
      "source": [
        "# API The Dog\n",
        "## Documentação: [Link](https://developers.thecatapi.com/view-account/ylX4blBYT9FaoVd6OhvR?report=bOoHBz-8t)\n",
        "### URL Base: https://api.thedogapi.com/v1/\n",
        "### Necessita de um token para consumir a API\n",
        "### Depois de cada endpoint, colocar como parametro \"api_key={sua_chave_API}\"\n",
        "# Endpoints:\n",
        "- ### Images\n",
        " - images/search/ - (GET)\n",
        " - /images/:image_id/ - (GET)\n",
        " - /images/ (GET)\n",
        " - /images/upload/ - (POST)\n",
        " - /images/:image_id/ - (DELETE)\n",
        " - /images/:image_id/analysis/ - (GET)\n",
        "\n",
        "- ### Favourites\n",
        " - /favourites/ - (GET)\n",
        " - /favourites/:favourite_id/ - (GET)\n",
        " - /favourites/ - (POST)\n",
        " - /favourites/:favourite_id/ - (DELETE)\n",
        "\n",
        "- ### Votes\n",
        " - /votes/ - (GET)\n",
        " - /votes/:vote_id/ - (GET)\n",
        " - /votes/ - (POST)\n",
        " - /votes/:vote_id/ - (DELETE)\n",
        "\n",
        "- ### Categories\n",
        " - /categories/ - (GET)\n",
        "\n",
        "- ### Breeds\n",
        " - /breeds/ - (GET)\n",
        " - /breeds/search&q= - (GET)\n",
        " - /breeds/:breed_id/ - (GET)\n",
        "\n",
        "- ### Sources\n",
        " - /sources/ - (GET)"
      ],
      "metadata": {
        "id": "GIFdTLU1Sqtc"
      }
    },
    {
      "cell_type": "code",
      "source": [
        "# Importando bibliotecas necessárias\n",
        "import requests\n",
        "\n",
        "# Definindo a chave da API\n",
        "api_key = \"live_hLCEa4zITigYgj4bps2yHVuSziP48eCaSfb8r3nYKoOozEULGyWqOTJw4w1Uc5NW\"\n",
        "\n",
        "# Definindo a URL da API\n",
        "url = f\"https://api.thedogapi.com/v1/images/search?api_key={api_key}\"\n",
        "\n",
        "# Consultando a API\n",
        "response = requests.get(url)\n",
        "data = response.json()\n",
        "\n",
        "print(data)\n"
      ],
      "metadata": {
        "id": "I_PO84z2TSyZ",
        "colab": {
          "base_uri": "https://localhost:8080/"
        },
        "outputId": "ad8295dc-a5d6-41d1-c7f6-9a053ce60632"
      },
      "execution_count": 1,
      "outputs": [
        {
          "output_type": "stream",
          "name": "stdout",
          "text": [
            "[{'breeds': [], 'id': 'r7IQhF_nu', 'url': 'https://cdn2.thedogapi.com/images/r7IQhF_nu.png', 'width': 788, 'height': 803}]\n"
          ]
        }
      ]
    },
    {
      "cell_type": "markdown",
      "source": [
        "# API The Cat\n",
        "## Documentação: [Link](https://developers.thecatapi.com/view-account/ylX4blBYT9FaoVd6OhvR?report=bOoHBz-8t)\n",
        "### URL Base: https://api.thecatapi.com/v1/\n",
        "### Necessita de um token para consumir a API\n",
        "### Depois de cada endpoint, colocar como parametro \"api_key={sua_chave_API}\"\n",
        "# Endpoints:\n",
        "- ### Images\n",
        " - images/search/ - (GET)\n",
        " - /images/:image_id/ - (GET)\n",
        " - /images/ (GET)\n",
        " - /images/upload/ - (POST)\n",
        " - /images/:image_id/ - (DELETE)\n",
        " - /images/:image_id/analysis/ - (GET)\n",
        "\n",
        "- ### Favourites\n",
        " - /favourites/ - (GET)\n",
        " - /favourites/:favourite_id/ - (GET)\n",
        " - /favourites/ - (POST)\n",
        " - /favourites/:favourite_id/ - (DELETE)\n",
        "\n",
        "- ### Votes\n",
        " - /votes/ - (GET)\n",
        " - /votes/:vote_id/ - (GET)\n",
        " - /votes/ - (POST)\n",
        " - /votes/:vote_id/ - (DELETE)\n",
        "\n",
        "- ### Categories\n",
        " - /categories/ - (GET)\n",
        "\n",
        "- ### Breeds\n",
        " - /breeds/ - (GET)\n",
        " - /breeds/search&q= - (GET)\n",
        " - /breeds/:breed_id/ - (GET)\n",
        "\n",
        "- ### Sources\n",
        " - /sources/ - (GET)"
      ],
      "metadata": {
        "id": "VwfvJSdHUvkc"
      }
    },
    {
      "cell_type": "code",
      "source": [
        "# Importando bibliotecas necessárias\n",
        "import requests\n",
        "\n",
        "# Definindo a chave da API\n",
        "api_key = \"live_hLCEa4zITigYgj4bps2yHVuSziP48eCaSfb8r3nYKoOozEULGyWqOTJw4w1Uc5NW\"\n",
        "\n",
        "# Definindo a URL da API\n",
        "url = f\"https://api.thecatapi.com/v1/images/search?api_key={api_key}\"\n",
        "\n",
        "# Consultando a API\n",
        "response = requests.get(url)\n",
        "\n",
        "# Printando as informações que a API retornou\n",
        "print(response.text)\n"
      ],
      "metadata": {
        "colab": {
          "base_uri": "https://localhost:8080/"
        },
        "id": "KfyUt__KU0uN",
        "outputId": "6b3b4676-b351-430f-a2ef-f34ca602df36"
      },
      "execution_count": 2,
      "outputs": [
        {
          "output_type": "stream",
          "name": "stdout",
          "text": [
            "[{\"id\":\"nK0RaZbq3\",\"url\":\"https://cdn2.thecatapi.com/images/nK0RaZbq3.jpg\",\"width\":1200,\"height\":900}]\n"
          ]
        }
      ]
    },
    {
      "cell_type": "markdown",
      "source": [
        "# API NASA\n",
        "## Documentação: [Link](https://api.nasa.gov/#browseAPI)\n",
        "### URL Base: https://api.nasa.gov/\n",
        "### Necessita de um token para consumir a API\n",
        "### Depois de cada endpoint, colocar como parametro \"api_key={sua_chave_API}\"\n",
        "# Endpoints:\n",
        "- ### APOD(Astronomy Picture of The Day)\n",
        " - /planetary/apod/ - (GET)\n",
        " - /neo/rest/v1/feed?start_date={Data-inicio}&end_date={Data-fim} - (GET)\n",
        " - /neo/rest/v1/neo/ - (GET)\n",
        " - /neo/rest/v1/neo/browse/ - (GET)\n",
        "\n",
        "- ### DONKI(Space weather database of notifications, knowledge, information)\n",
        " - /DONKI/CME?startDate=yyyy-MM-dd&endDate=yyyy-MM-dd/ - (GET)\n",
        " - /DONKI/GST?startDate=yyyy-MM-dd&endDate=yyyy-MM-dd/ - (GET)\n",
        " - /DONKI/FLR?startDate=yyyy-MM-dd&endDate=yyyy-MM-dd/ - (GET)\n",
        " - /DONKI/SEP?startDate=yyyy-MM-dd&endDate=yyyy-MM-dd/ - (GET)\n",
        " - /DONKI/MPC?startDate=yyyy-MM-dd&endDate=yyyy-MM-dd/ - (GET)\n",
        " - /DONKI/RBE?startDate=yyyy-MM-dd&endDate=yyyy-MM-dd/ - (GET)\n",
        " - /DONKI/HSS?startDate=yyyy-MM-dd&endDate=yyyy-MM-dd/ - (GET)\n",
        " - /DONKI/WSAEnlilSimulations?startDate=yyyy-MM-dd&endDate=yyyy-MM-dd/ - (GET)\n",
        " - /DONKI/notifications?startDate=yyyy-MM-dd&endDate=yyyy-MM-dd&type=all/ - (GET)\n",
        "\n",
        "- ### Earth\n",
        " - /planetary/earth/imagery/ - (GET)\n",
        " - /planetary/earth/assets/ - (GET)\n",
        "\n",
        "- ### EPIC\n",
        "- ## URL BASE: epic.gsfc.nasa.gov\n",
        " - /api/natural/images/ - (GET)\n",
        " - /api/natural/date/{yyyy-MM-dd}/ - (GET)\n",
        " - /api/natural/all/ - (GET)\n",
        " - /archive/natural/2019/05/30/png/epic_1b_20190530011359.png - (GET)\n",
        " - /api/natural/available/ - (GET)\n",
        " - /api/enhanced/images/ - (GET)\n",
        " - /api/enhanced/date/{yyyy-MM-dd}/ - (GET)\n",
        " - /api/enhanced/all/ - (GET)\n",
        " - /archive/enhanced/2019/05/30/png/epic_1b_20190530011359.png - (GET)"
      ],
      "metadata": {
        "id": "Sxvk2oZbDqNH"
      }
    },
    {
      "cell_type": "code",
      "source": [
        "# Importando bibliotecas necessárias\n",
        "import requests\n",
        "\n",
        "# Definindo a chave da API\n",
        "api_key = \"93XcsvH8dQRboSblD1V7Qcs1uuyMciUcSTVhtcM5\"\n",
        "\n",
        "# Definindo o endpoint\n",
        "endpoint = \"/planetary/apod\"\n",
        "\n",
        "# Definindo a URL Base\n",
        "url = f\"https://api.nasa.gov{endpoint}?api_key={api_key}\"\n",
        "#url = f\"https://epic.gsfc.nasa.gov{endpoint}?api_key={api_key}\"\n",
        "\n",
        "response = requests.get(url).json()\n",
        "print(response['hdurl'])"
      ],
      "metadata": {
        "colab": {
          "base_uri": "https://localhost:8080/"
        },
        "id": "C-kFtPaVLdB8",
        "outputId": "17db3691-ffd4-48f8-a80f-06b07b8575b9"
      },
      "execution_count": 8,
      "outputs": [
        {
          "output_type": "stream",
          "name": "stdout",
          "text": [
            "https://apod.nasa.gov/apod/image/2409/iss071e564695_4096.jpg\n"
          ]
        }
      ]
    },
    {
      "cell_type": "markdown",
      "source": [
        "# API Star Wars\n",
        "## Documentação: [Link](https://swapi.dev/documentation)\n",
        "### URL Base: swapi.dev/api/\n",
        "# Endpoints:\n",
        "- ### Root\n",
        " - /\n",
        "\n",
        "- ### People\n",
        " - /people/\n",
        " - /people/:id/\n",
        " - /people/schema/\n",
        "\n",
        "- ### Films\n",
        " - /films/\n",
        " - /films/:id/\n",
        " - /films/schema/\n",
        "\n",
        "- ### Starships\n",
        " - /starships/\n",
        " - /starships/:id/\n",
        " - /starships/schema/\n",
        "\n",
        "- ### Vehicles\n",
        " - /vehicles/\n",
        " - /vehicles/:id/\n",
        " - /vehicles/schema/\n",
        "\n",
        "- ### Species\n",
        " - /species/\n",
        " - /species/:id/\n",
        " - /species/schema/\n",
        "\n",
        "- ### Planets\n",
        " - /planets/\n",
        " - /planets/:id/\n",
        " - /planets/schema/"
      ],
      "metadata": {
        "id": "nG9CqjPbRbx-"
      }
    },
    {
      "cell_type": "code",
      "source": [
        "# Importando bibliotecas necessárias\n",
        "import requests\n",
        "\n",
        "# Definindo o Endpoint\n",
        "endpoint = \"people\"\n",
        "\n",
        "# Definindo a URL da API\n",
        "url = f\"https://swapi.dev/api/{endpoint}\"\n",
        "\n",
        "# Consultando a API\n",
        "response = requests.get(url)\n",
        "\n",
        "# Lendo em formato json\n",
        "pessoas = response.json()\n",
        "\n",
        "# Iterando no dicionario retornado\n",
        "for pessoa in pessoas['results']:\n",
        "\n",
        "# Quebras de linha\n",
        "  print(\"\")\n",
        "  print(\"=\" * 40 + \"\\n\")\n",
        "\n",
        "# Formatando os dados retornados\n",
        "  print(f\"Nome: {pessoa['name']}\") # Formatando Nome\n",
        "  print(f\"Gênero: {pessoa['gender']}\") # Formatando Gênero\n",
        "  print(f\"Altura: {pessoa['height']} cm\") # Formatando Altura\n",
        "  print(f\"Peso: {pessoa['mass']} kg\") # Formatando Peso\n",
        "  print(\"Participação em:\")\n",
        "\n",
        "# Iterando em cada filme\n",
        "  for filme_url in pessoa['films']:\n",
        "\n",
        "# Fazendo a requisição para cada URL retornada de 'films'\n",
        "    response_filme = requests.get(filme_url)\n",
        "\n",
        "# Lendo as respostas em json\n",
        "    filme = response_filme.json()\n",
        "\n",
        "# Printando na tela o titulo do filme\n",
        "    print(f\"- {filme['title']}\")\n",
        "\n",
        "  print(\"Veículos:\")\n",
        "# Iterando em cada veiculo\n",
        "  for veiculo_url in pessoa['vehicles']:\n",
        "\n",
        "# Fazendo a requisição para cada URL retornada de 'vehicles'\n",
        "    response_veiculo = requests.get(veiculo_url)\n",
        "\n",
        "# Lendo as respostas em json\n",
        "    veiculo = response_veiculo.json()\n",
        "\n",
        "# Printando na tela o titulo do filme\n",
        "    print(f\"- {veiculo['name']}\")\n"
      ],
      "metadata": {
        "colab": {
          "base_uri": "https://localhost:8080/",
          "height": 755
        },
        "collapsed": true,
        "id": "pKnD568xW69N",
        "outputId": "02cf988a-fbd4-4c6a-ed8a-86388dbedaa1"
      },
      "execution_count": null,
      "outputs": [
        {
          "output_type": "stream",
          "name": "stdout",
          "text": [
            "\n",
            "========================================\n",
            "\n",
            "Nome: Luke Skywalker\n",
            "Gênero: male\n",
            "Altura: 172 cm\n",
            "Peso: 77 kg\n",
            "Participação em:\n",
            "- A New Hope\n",
            "- The Empire Strikes Back\n",
            "- Return of the Jedi\n",
            "- Revenge of the Sith\n",
            "Veículos:\n",
            "- Snowspeeder\n",
            "- Imperial Speeder Bike\n",
            "\n",
            "========================================\n",
            "\n",
            "Nome: C-3PO\n",
            "Gênero: n/a\n",
            "Altura: 167 cm\n",
            "Peso: 75 kg\n",
            "Participação em:\n"
          ]
        },
        {
          "output_type": "error",
          "ename": "KeyboardInterrupt",
          "evalue": "",
          "traceback": [
            "\u001b[0;31m---------------------------------------------------------------------------\u001b[0m",
            "\u001b[0;31mKeyboardInterrupt\u001b[0m                         Traceback (most recent call last)",
            "\u001b[0;32m<ipython-input-103-0a4d36026df3>\u001b[0m in \u001b[0;36m<cell line: 17>\u001b[0;34m()\u001b[0m\n\u001b[1;32m     32\u001b[0m \u001b[0;34m\u001b[0m\u001b[0m\n\u001b[1;32m     33\u001b[0m \u001b[0;31m# Fazendo a requisição para cada URL retornada de 'films'\u001b[0m\u001b[0;34m\u001b[0m\u001b[0;34m\u001b[0m\u001b[0m\n\u001b[0;32m---> 34\u001b[0;31m     \u001b[0mresponse_filme\u001b[0m \u001b[0;34m=\u001b[0m \u001b[0mrequests\u001b[0m\u001b[0;34m.\u001b[0m\u001b[0mget\u001b[0m\u001b[0;34m(\u001b[0m\u001b[0mfilme_url\u001b[0m\u001b[0;34m)\u001b[0m\u001b[0;34m\u001b[0m\u001b[0;34m\u001b[0m\u001b[0m\n\u001b[0m\u001b[1;32m     35\u001b[0m \u001b[0;34m\u001b[0m\u001b[0m\n\u001b[1;32m     36\u001b[0m \u001b[0;31m# Lendo as respostas em json\u001b[0m\u001b[0;34m\u001b[0m\u001b[0;34m\u001b[0m\u001b[0m\n",
            "\u001b[0;32m/usr/local/lib/python3.10/dist-packages/requests/api.py\u001b[0m in \u001b[0;36mget\u001b[0;34m(url, params, **kwargs)\u001b[0m\n\u001b[1;32m     71\u001b[0m     \"\"\"\n\u001b[1;32m     72\u001b[0m \u001b[0;34m\u001b[0m\u001b[0m\n\u001b[0;32m---> 73\u001b[0;31m     \u001b[0;32mreturn\u001b[0m \u001b[0mrequest\u001b[0m\u001b[0;34m(\u001b[0m\u001b[0;34m\"get\"\u001b[0m\u001b[0;34m,\u001b[0m \u001b[0murl\u001b[0m\u001b[0;34m,\u001b[0m \u001b[0mparams\u001b[0m\u001b[0;34m=\u001b[0m\u001b[0mparams\u001b[0m\u001b[0;34m,\u001b[0m \u001b[0;34m**\u001b[0m\u001b[0mkwargs\u001b[0m\u001b[0;34m)\u001b[0m\u001b[0;34m\u001b[0m\u001b[0;34m\u001b[0m\u001b[0m\n\u001b[0m\u001b[1;32m     74\u001b[0m \u001b[0;34m\u001b[0m\u001b[0m\n\u001b[1;32m     75\u001b[0m \u001b[0;34m\u001b[0m\u001b[0m\n",
            "\u001b[0;32m/usr/local/lib/python3.10/dist-packages/requests/api.py\u001b[0m in \u001b[0;36mrequest\u001b[0;34m(method, url, **kwargs)\u001b[0m\n\u001b[1;32m     57\u001b[0m     \u001b[0;31m# cases, and look like a memory leak in others.\u001b[0m\u001b[0;34m\u001b[0m\u001b[0;34m\u001b[0m\u001b[0m\n\u001b[1;32m     58\u001b[0m     \u001b[0;32mwith\u001b[0m \u001b[0msessions\u001b[0m\u001b[0;34m.\u001b[0m\u001b[0mSession\u001b[0m\u001b[0;34m(\u001b[0m\u001b[0;34m)\u001b[0m \u001b[0;32mas\u001b[0m \u001b[0msession\u001b[0m\u001b[0;34m:\u001b[0m\u001b[0;34m\u001b[0m\u001b[0;34m\u001b[0m\u001b[0m\n\u001b[0;32m---> 59\u001b[0;31m         \u001b[0;32mreturn\u001b[0m \u001b[0msession\u001b[0m\u001b[0;34m.\u001b[0m\u001b[0mrequest\u001b[0m\u001b[0;34m(\u001b[0m\u001b[0mmethod\u001b[0m\u001b[0;34m=\u001b[0m\u001b[0mmethod\u001b[0m\u001b[0;34m,\u001b[0m \u001b[0murl\u001b[0m\u001b[0;34m=\u001b[0m\u001b[0murl\u001b[0m\u001b[0;34m,\u001b[0m \u001b[0;34m**\u001b[0m\u001b[0mkwargs\u001b[0m\u001b[0;34m)\u001b[0m\u001b[0;34m\u001b[0m\u001b[0;34m\u001b[0m\u001b[0m\n\u001b[0m\u001b[1;32m     60\u001b[0m \u001b[0;34m\u001b[0m\u001b[0m\n\u001b[1;32m     61\u001b[0m \u001b[0;34m\u001b[0m\u001b[0m\n",
            "\u001b[0;32m/usr/local/lib/python3.10/dist-packages/requests/sessions.py\u001b[0m in \u001b[0;36mrequest\u001b[0;34m(self, method, url, params, data, headers, cookies, files, auth, timeout, allow_redirects, proxies, hooks, stream, verify, cert, json)\u001b[0m\n\u001b[1;32m    587\u001b[0m         }\n\u001b[1;32m    588\u001b[0m         \u001b[0msend_kwargs\u001b[0m\u001b[0;34m.\u001b[0m\u001b[0mupdate\u001b[0m\u001b[0;34m(\u001b[0m\u001b[0msettings\u001b[0m\u001b[0;34m)\u001b[0m\u001b[0;34m\u001b[0m\u001b[0;34m\u001b[0m\u001b[0m\n\u001b[0;32m--> 589\u001b[0;31m         \u001b[0mresp\u001b[0m \u001b[0;34m=\u001b[0m \u001b[0mself\u001b[0m\u001b[0;34m.\u001b[0m\u001b[0msend\u001b[0m\u001b[0;34m(\u001b[0m\u001b[0mprep\u001b[0m\u001b[0;34m,\u001b[0m \u001b[0;34m**\u001b[0m\u001b[0msend_kwargs\u001b[0m\u001b[0;34m)\u001b[0m\u001b[0;34m\u001b[0m\u001b[0;34m\u001b[0m\u001b[0m\n\u001b[0m\u001b[1;32m    590\u001b[0m \u001b[0;34m\u001b[0m\u001b[0m\n\u001b[1;32m    591\u001b[0m         \u001b[0;32mreturn\u001b[0m \u001b[0mresp\u001b[0m\u001b[0;34m\u001b[0m\u001b[0;34m\u001b[0m\u001b[0m\n",
            "\u001b[0;32m/usr/local/lib/python3.10/dist-packages/requests/sessions.py\u001b[0m in \u001b[0;36msend\u001b[0;34m(self, request, **kwargs)\u001b[0m\n\u001b[1;32m    701\u001b[0m \u001b[0;34m\u001b[0m\u001b[0m\n\u001b[1;32m    702\u001b[0m         \u001b[0;31m# Send the request\u001b[0m\u001b[0;34m\u001b[0m\u001b[0;34m\u001b[0m\u001b[0m\n\u001b[0;32m--> 703\u001b[0;31m         \u001b[0mr\u001b[0m \u001b[0;34m=\u001b[0m \u001b[0madapter\u001b[0m\u001b[0;34m.\u001b[0m\u001b[0msend\u001b[0m\u001b[0;34m(\u001b[0m\u001b[0mrequest\u001b[0m\u001b[0;34m,\u001b[0m \u001b[0;34m**\u001b[0m\u001b[0mkwargs\u001b[0m\u001b[0;34m)\u001b[0m\u001b[0;34m\u001b[0m\u001b[0;34m\u001b[0m\u001b[0m\n\u001b[0m\u001b[1;32m    704\u001b[0m \u001b[0;34m\u001b[0m\u001b[0m\n\u001b[1;32m    705\u001b[0m         \u001b[0;31m# Total elapsed time of the request (approximately)\u001b[0m\u001b[0;34m\u001b[0m\u001b[0;34m\u001b[0m\u001b[0m\n",
            "\u001b[0;32m/usr/local/lib/python3.10/dist-packages/requests/adapters.py\u001b[0m in \u001b[0;36msend\u001b[0;34m(self, request, stream, timeout, verify, cert, proxies)\u001b[0m\n\u001b[1;32m    665\u001b[0m \u001b[0;34m\u001b[0m\u001b[0m\n\u001b[1;32m    666\u001b[0m         \u001b[0;32mtry\u001b[0m\u001b[0;34m:\u001b[0m\u001b[0;34m\u001b[0m\u001b[0;34m\u001b[0m\u001b[0m\n\u001b[0;32m--> 667\u001b[0;31m             resp = conn.urlopen(\n\u001b[0m\u001b[1;32m    668\u001b[0m                 \u001b[0mmethod\u001b[0m\u001b[0;34m=\u001b[0m\u001b[0mrequest\u001b[0m\u001b[0;34m.\u001b[0m\u001b[0mmethod\u001b[0m\u001b[0;34m,\u001b[0m\u001b[0;34m\u001b[0m\u001b[0;34m\u001b[0m\u001b[0m\n\u001b[1;32m    669\u001b[0m                 \u001b[0murl\u001b[0m\u001b[0;34m=\u001b[0m\u001b[0murl\u001b[0m\u001b[0;34m,\u001b[0m\u001b[0;34m\u001b[0m\u001b[0;34m\u001b[0m\u001b[0m\n",
            "\u001b[0;32m/usr/local/lib/python3.10/dist-packages/urllib3/connectionpool.py\u001b[0m in \u001b[0;36murlopen\u001b[0;34m(self, method, url, body, headers, retries, redirect, assert_same_host, timeout, pool_timeout, release_conn, chunked, body_pos, preload_content, decode_content, **response_kw)\u001b[0m\n\u001b[1;32m    789\u001b[0m \u001b[0;34m\u001b[0m\u001b[0m\n\u001b[1;32m    790\u001b[0m             \u001b[0;31m# Make the request on the HTTPConnection object\u001b[0m\u001b[0;34m\u001b[0m\u001b[0;34m\u001b[0m\u001b[0m\n\u001b[0;32m--> 791\u001b[0;31m             response = self._make_request(\n\u001b[0m\u001b[1;32m    792\u001b[0m                 \u001b[0mconn\u001b[0m\u001b[0;34m,\u001b[0m\u001b[0;34m\u001b[0m\u001b[0;34m\u001b[0m\u001b[0m\n\u001b[1;32m    793\u001b[0m                 \u001b[0mmethod\u001b[0m\u001b[0;34m,\u001b[0m\u001b[0;34m\u001b[0m\u001b[0;34m\u001b[0m\u001b[0m\n",
            "\u001b[0;32m/usr/local/lib/python3.10/dist-packages/urllib3/connectionpool.py\u001b[0m in \u001b[0;36m_make_request\u001b[0;34m(self, conn, method, url, body, headers, retries, timeout, chunked, response_conn, preload_content, decode_content, enforce_content_length)\u001b[0m\n\u001b[1;32m    466\u001b[0m             \u001b[0;31m# Trigger any extra validation we need to do.\u001b[0m\u001b[0;34m\u001b[0m\u001b[0;34m\u001b[0m\u001b[0m\n\u001b[1;32m    467\u001b[0m             \u001b[0;32mtry\u001b[0m\u001b[0;34m:\u001b[0m\u001b[0;34m\u001b[0m\u001b[0;34m\u001b[0m\u001b[0m\n\u001b[0;32m--> 468\u001b[0;31m                 \u001b[0mself\u001b[0m\u001b[0;34m.\u001b[0m\u001b[0m_validate_conn\u001b[0m\u001b[0;34m(\u001b[0m\u001b[0mconn\u001b[0m\u001b[0;34m)\u001b[0m\u001b[0;34m\u001b[0m\u001b[0;34m\u001b[0m\u001b[0m\n\u001b[0m\u001b[1;32m    469\u001b[0m             \u001b[0;32mexcept\u001b[0m \u001b[0;34m(\u001b[0m\u001b[0mSocketTimeout\u001b[0m\u001b[0;34m,\u001b[0m \u001b[0mBaseSSLError\u001b[0m\u001b[0;34m)\u001b[0m \u001b[0;32mas\u001b[0m \u001b[0me\u001b[0m\u001b[0;34m:\u001b[0m\u001b[0;34m\u001b[0m\u001b[0;34m\u001b[0m\u001b[0m\n\u001b[1;32m    470\u001b[0m                 \u001b[0mself\u001b[0m\u001b[0;34m.\u001b[0m\u001b[0m_raise_timeout\u001b[0m\u001b[0;34m(\u001b[0m\u001b[0merr\u001b[0m\u001b[0;34m=\u001b[0m\u001b[0me\u001b[0m\u001b[0;34m,\u001b[0m \u001b[0murl\u001b[0m\u001b[0;34m=\u001b[0m\u001b[0murl\u001b[0m\u001b[0;34m,\u001b[0m \u001b[0mtimeout_value\u001b[0m\u001b[0;34m=\u001b[0m\u001b[0mconn\u001b[0m\u001b[0;34m.\u001b[0m\u001b[0mtimeout\u001b[0m\u001b[0;34m)\u001b[0m\u001b[0;34m\u001b[0m\u001b[0;34m\u001b[0m\u001b[0m\n",
            "\u001b[0;32m/usr/local/lib/python3.10/dist-packages/urllib3/connectionpool.py\u001b[0m in \u001b[0;36m_validate_conn\u001b[0;34m(self, conn)\u001b[0m\n\u001b[1;32m   1095\u001b[0m         \u001b[0;31m# Force connect early to allow us to validate the connection.\u001b[0m\u001b[0;34m\u001b[0m\u001b[0;34m\u001b[0m\u001b[0m\n\u001b[1;32m   1096\u001b[0m         \u001b[0;32mif\u001b[0m \u001b[0mconn\u001b[0m\u001b[0;34m.\u001b[0m\u001b[0mis_closed\u001b[0m\u001b[0;34m:\u001b[0m\u001b[0;34m\u001b[0m\u001b[0;34m\u001b[0m\u001b[0m\n\u001b[0;32m-> 1097\u001b[0;31m             \u001b[0mconn\u001b[0m\u001b[0;34m.\u001b[0m\u001b[0mconnect\u001b[0m\u001b[0;34m(\u001b[0m\u001b[0;34m)\u001b[0m\u001b[0;34m\u001b[0m\u001b[0;34m\u001b[0m\u001b[0m\n\u001b[0m\u001b[1;32m   1098\u001b[0m \u001b[0;34m\u001b[0m\u001b[0m\n\u001b[1;32m   1099\u001b[0m         \u001b[0;32mif\u001b[0m \u001b[0;32mnot\u001b[0m \u001b[0mconn\u001b[0m\u001b[0;34m.\u001b[0m\u001b[0mis_verified\u001b[0m\u001b[0;34m:\u001b[0m\u001b[0;34m\u001b[0m\u001b[0;34m\u001b[0m\u001b[0m\n",
            "\u001b[0;32m/usr/local/lib/python3.10/dist-packages/urllib3/connection.py\u001b[0m in \u001b[0;36mconnect\u001b[0;34m(self)\u001b[0m\n\u001b[1;32m    609\u001b[0m     \u001b[0;32mdef\u001b[0m \u001b[0mconnect\u001b[0m\u001b[0;34m(\u001b[0m\u001b[0mself\u001b[0m\u001b[0;34m)\u001b[0m \u001b[0;34m->\u001b[0m \u001b[0;32mNone\u001b[0m\u001b[0;34m:\u001b[0m\u001b[0;34m\u001b[0m\u001b[0;34m\u001b[0m\u001b[0m\n\u001b[1;32m    610\u001b[0m         \u001b[0msock\u001b[0m\u001b[0;34m:\u001b[0m \u001b[0msocket\u001b[0m\u001b[0;34m.\u001b[0m\u001b[0msocket\u001b[0m \u001b[0;34m|\u001b[0m \u001b[0mssl\u001b[0m\u001b[0;34m.\u001b[0m\u001b[0mSSLSocket\u001b[0m\u001b[0;34m\u001b[0m\u001b[0;34m\u001b[0m\u001b[0m\n\u001b[0;32m--> 611\u001b[0;31m         \u001b[0mself\u001b[0m\u001b[0;34m.\u001b[0m\u001b[0msock\u001b[0m \u001b[0;34m=\u001b[0m \u001b[0msock\u001b[0m \u001b[0;34m=\u001b[0m \u001b[0mself\u001b[0m\u001b[0;34m.\u001b[0m\u001b[0m_new_conn\u001b[0m\u001b[0;34m(\u001b[0m\u001b[0;34m)\u001b[0m\u001b[0;34m\u001b[0m\u001b[0;34m\u001b[0m\u001b[0m\n\u001b[0m\u001b[1;32m    612\u001b[0m         \u001b[0mserver_hostname\u001b[0m\u001b[0;34m:\u001b[0m \u001b[0mstr\u001b[0m \u001b[0;34m=\u001b[0m \u001b[0mself\u001b[0m\u001b[0;34m.\u001b[0m\u001b[0mhost\u001b[0m\u001b[0;34m\u001b[0m\u001b[0;34m\u001b[0m\u001b[0m\n\u001b[1;32m    613\u001b[0m         \u001b[0mtls_in_tls\u001b[0m \u001b[0;34m=\u001b[0m \u001b[0;32mFalse\u001b[0m\u001b[0;34m\u001b[0m\u001b[0;34m\u001b[0m\u001b[0m\n",
            "\u001b[0;32m/usr/local/lib/python3.10/dist-packages/urllib3/connection.py\u001b[0m in \u001b[0;36m_new_conn\u001b[0;34m(self)\u001b[0m\n\u001b[1;32m    201\u001b[0m         \"\"\"\n\u001b[1;32m    202\u001b[0m         \u001b[0;32mtry\u001b[0m\u001b[0;34m:\u001b[0m\u001b[0;34m\u001b[0m\u001b[0;34m\u001b[0m\u001b[0m\n\u001b[0;32m--> 203\u001b[0;31m             sock = connection.create_connection(\n\u001b[0m\u001b[1;32m    204\u001b[0m                 \u001b[0;34m(\u001b[0m\u001b[0mself\u001b[0m\u001b[0;34m.\u001b[0m\u001b[0m_dns_host\u001b[0m\u001b[0;34m,\u001b[0m \u001b[0mself\u001b[0m\u001b[0;34m.\u001b[0m\u001b[0mport\u001b[0m\u001b[0;34m)\u001b[0m\u001b[0;34m,\u001b[0m\u001b[0;34m\u001b[0m\u001b[0;34m\u001b[0m\u001b[0m\n\u001b[1;32m    205\u001b[0m                 \u001b[0mself\u001b[0m\u001b[0;34m.\u001b[0m\u001b[0mtimeout\u001b[0m\u001b[0;34m,\u001b[0m\u001b[0;34m\u001b[0m\u001b[0;34m\u001b[0m\u001b[0m\n",
            "\u001b[0;32m/usr/local/lib/python3.10/dist-packages/urllib3/util/connection.py\u001b[0m in \u001b[0;36mcreate_connection\u001b[0;34m(address, timeout, source_address, socket_options)\u001b[0m\n\u001b[1;32m     71\u001b[0m             \u001b[0;32mif\u001b[0m \u001b[0msource_address\u001b[0m\u001b[0;34m:\u001b[0m\u001b[0;34m\u001b[0m\u001b[0;34m\u001b[0m\u001b[0m\n\u001b[1;32m     72\u001b[0m                 \u001b[0msock\u001b[0m\u001b[0;34m.\u001b[0m\u001b[0mbind\u001b[0m\u001b[0;34m(\u001b[0m\u001b[0msource_address\u001b[0m\u001b[0;34m)\u001b[0m\u001b[0;34m\u001b[0m\u001b[0;34m\u001b[0m\u001b[0m\n\u001b[0;32m---> 73\u001b[0;31m             \u001b[0msock\u001b[0m\u001b[0;34m.\u001b[0m\u001b[0mconnect\u001b[0m\u001b[0;34m(\u001b[0m\u001b[0msa\u001b[0m\u001b[0;34m)\u001b[0m\u001b[0;34m\u001b[0m\u001b[0;34m\u001b[0m\u001b[0m\n\u001b[0m\u001b[1;32m     74\u001b[0m             \u001b[0;31m# Break explicitly a reference cycle\u001b[0m\u001b[0;34m\u001b[0m\u001b[0;34m\u001b[0m\u001b[0m\n\u001b[1;32m     75\u001b[0m             \u001b[0merr\u001b[0m \u001b[0;34m=\u001b[0m \u001b[0;32mNone\u001b[0m\u001b[0;34m\u001b[0m\u001b[0;34m\u001b[0m\u001b[0m\n",
            "\u001b[0;31mKeyboardInterrupt\u001b[0m: "
          ]
        }
      ]
    },
    {
      "cell_type": "markdown",
      "source": [
        "# API Trivia\n",
        "## Documentação: [Link](https://opentdb.com/api_config.php)\n",
        "### URL Base: opentdb.com/api.php\n",
        "# Endpoints:\n",
        "- ### Root\n",
        " - /\n",
        " - ## Parametros\n",
        " - amount\n",
        " - category\n",
        " - difficulty\n",
        " - type"
      ],
      "metadata": {
        "id": "wkhp7SctgvBd"
      }
    },
    {
      "cell_type": "code",
      "source": [
        "# Importando as bibliotecas\n",
        "import requests\n",
        "\n",
        "# Configurando a URL da API\n",
        "url = \"https://opentdb.com/api.php?amount=10&category=11&difficulty=medium\"\n",
        "\n",
        "# Fazendo a requisição\n",
        "response = requests.get(url).json()\n",
        "\n",
        "# Iterando para cada pergunta que retornar\n",
        "for pergunta in response['results']:\n",
        "\n",
        "# Printando a pergunta\n",
        "  print(f\"Pergunta: {pergunta['question']}\")\n"
      ],
      "metadata": {
        "colab": {
          "base_uri": "https://localhost:8080/"
        },
        "id": "iOs-5P0ZXOnz",
        "outputId": "4d0e497f-6555-484a-f02a-100aeef6e2e1"
      },
      "execution_count": 9,
      "outputs": [
        {
          "output_type": "stream",
          "name": "stdout",
          "text": [
            "Pergunta: Leonardo Di Caprio won his first Best Actor Oscar for his performance in which film?\n",
            "Pergunta: Who was the director of &quot;Scott Pilgrim vs. the World (2010)&quot;?\n",
            "Pergunta: Who played Sgt. Gordon Elias in &#039;Platoon&#039; (1986)?\n",
            "Pergunta: Which 90&#039;s comedy cult classic features cameos appearances from Meat Loaf, Alice Cooper and Chris Farley?\n",
            "Pergunta: What is Lilo&#039;s last name from Lilo and Stitch?\n",
            "Pergunta: Who voices the main character Blu in the 2011 animated film &quot;Rio&quot;?\n",
            "Pergunta: What is the name of the villian in the 2015 Russian-American Sci-Fi Movie &quot;Hardcore Henry&quot;?\n",
            "Pergunta: What does TIE stand for in reference to the TIE Fighter in &quot;Star Wars&quot;?\n",
            "Pergunta: In which 1973 film does Yul Brynner play a robotic cowboy who malfunctions and goes on a killing\tspree?\n",
            "Pergunta: In what year was the movie &quot;Police Academy&quot; released?\n"
          ]
        }
      ]
    },
    {
      "cell_type": "markdown",
      "source": [
        "# API Clima\n",
        "## Documentação: [Link](https://developers.thecatapi.com/view-account/ylX4blBYT9FaoVd6OhvR?report=bOoHBz-8t)\n",
        "### URL Base: http://api.weatherapi.com/v1/\n",
        "### Necessita de um token para consumir a API\n",
        "### Depois de cada endpoint, colocar como parametro \"key={sua_chave_API}\"\n",
        "# Endpoints:\n",
        "- ### Clima atual\n",
        " - /current.json\n",
        " - /current.xml\n",
        "\n",
        "- ### Previsão\n",
        " - /forecast.json\n",
        " - /forecast.xml\n",
        "\n",
        "- ### Histórico\n",
        " - /history.json\n",
        " - /history.xml\n",
        "\n",
        "- ### Marinha\n",
        " - /marine.json\n",
        " - /marine.xml\n",
        "\n",
        "- ### Futuro\n",
        " - /future.json\n",
        " - /future.xml\n",
        "\n",
        "- ### Fuso Horário\n",
        " - /timezone.json\n",
        " - /timezone.xml\n",
        "\n",
        "- ### Esportes\n",
        " - /sports.json\n",
        " - /sports.xml\n",
        "\n",
        "- ### Astronomia\n",
        " - /astronomy.json\n",
        " - /astronomy.xml\n",
        "\n",
        "- ## Parametros obrigatorios\n",
        " - q (Parâmetro de consulta com base em quais dados são enviados de volta. Exemplo: q=brasilia)\n",
        " - days (Obrigatório apenas quando usando o endpoint \"forecast.json\". O valor é em dias entre 1 a 14.)"
      ],
      "metadata": {
        "id": "36qQi2Lvrief"
      }
    },
    {
      "cell_type": "code",
      "source": [
        "# Importando bibliotecas\n",
        "import requests\n",
        "\n",
        "# Definindo a chave da API\n",
        "api_key = \"da7d7856826a4e9daae192630241109\"\n",
        "\n",
        "# Definindo a cidade a ser procurada\n",
        "city = \"Brasilia\"\n",
        "\n",
        "# Configurando a URL\n",
        "url = f\"http://api.weatherapi.com/v1/current.json?key={api_key}&q={city}&days=1\"\n",
        "\n",
        "# Realizando a requisição com o metodo GET\n",
        "response = requests.get(url)\n",
        "\n",
        "# Guardando a resposta em formato json na variavel \"data\"\n",
        "data = response.json()\n",
        "\n",
        "# Printando as informações\n",
        "print(f\"Data e hora local: {data['location']['localtime']}\")\n",
        "print(f\"País: {data['location']['country']}\")\n",
        "print(f\"Temperatura Celsius: {data['current']['temp_c']} C°\")\n",
        "print(f\"Velocidade do vento: {data['current']['wind_mph']} M/h\")"
      ],
      "metadata": {
        "id": "KRPugxoxg8vj",
        "colab": {
          "base_uri": "https://localhost:8080/"
        },
        "outputId": "75c28f2b-e77d-4742-c8b1-92d18db622be"
      },
      "execution_count": 10,
      "outputs": [
        {
          "output_type": "stream",
          "name": "stdout",
          "text": [
            "Data e hora local: 2024-09-13 17:44\n",
            "País: Brazil\n",
            "Temperatura Celsius: 30.0 C°\n",
            "Velocidade do vento: 6.5 M/h\n"
          ]
        }
      ]
    },
    {
      "cell_type": "markdown",
      "source": [
        "# API ViaCep\n",
        "## Documentação: [Link](https://viacep.com.br)\n",
        "### URL Base: https://viacep.com.br/ws/\n",
        "# Endpoints:\n",
        "- ### Root\n",
        " - / - (GET)\n"
      ],
      "metadata": {
        "id": "SsYC5NK6J0PS"
      }
    },
    {
      "cell_type": "code",
      "source": [
        "# Importando bibliotecas\n",
        "import requests\n",
        "\n",
        "# Definindo CEP\n",
        "cep = \"72911551\"\n",
        "\n",
        "# Configurando a URL\n",
        "url = f\"https://viacep.com.br/ws/{cep}/json\"\n",
        "\n",
        "# Realizando a requisição com o metodo GET\n",
        "response = requests.get(url)\n",
        "\n",
        "# Guardando a resposta em formato json na variavel \"data\"\n",
        "data = response.text\n",
        "\n",
        "# Printando as informações\n",
        "print(data)"
      ],
      "metadata": {
        "colab": {
          "base_uri": "https://localhost:8080/"
        },
        "id": "jgUkvZbSC2pl",
        "outputId": "17f55910-dce3-46d9-e31e-a01eee6669cd"
      },
      "execution_count": 11,
      "outputs": [
        {
          "output_type": "stream",
          "name": "stdout",
          "text": [
            "{\n",
            "  \"cep\": \"72911-551\",\n",
            "  \"logradouro\": \"Quadra 7\",\n",
            "  \"complemento\": \"\",\n",
            "  \"unidade\": \"\",\n",
            "  \"bairro\": \"Condomínio Bela Vista da Barragem I\",\n",
            "  \"localidade\": \"Águas Lindas de Goiás\",\n",
            "  \"uf\": \"GO\",\n",
            "  \"estado\": \"Goiás\",\n",
            "  \"regiao\": \"Centro-Oeste\",\n",
            "  \"ibge\": \"5200258\",\n",
            "  \"gia\": \"\",\n",
            "  \"ddd\": \"61\",\n",
            "  \"siafi\": \"1052\"\n",
            "}\n"
          ]
        }
      ]
    },
    {
      "cell_type": "code",
      "source": [],
      "metadata": {
        "id": "-LtShlgzKrDs"
      },
      "execution_count": null,
      "outputs": []
    }
  ]
}